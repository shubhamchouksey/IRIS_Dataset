{
 "cells": [
  {
   "cell_type": "markdown",
   "metadata": {},
   "source": [
    "# Introduction to Machine Learning\n",
    "\n",
    "This lab introduces some basic concepts of machine learning with Python. In this lab you will use the K-Nearest Neighbor (KNN) algorithm to classify the species of iris flowers, given measurements of flower characteristics. By completing this lab you will have an overview of an end-to-end machine learning modeling process.  \n",
    "\n",
    "By the completion of this lab, you will:\n",
    "1. Follow and understand a complete end-to-end machine learning process including data exploration, data preparation, modeling, and model evaluation. \n",
    "2. Develop a basic understanding of the principles of machine learning and associated terminology. \n",
    "3. Understand the basic process for evaluating machine learning models. "
   ]
  },
  {
   "cell_type": "markdown",
   "metadata": {},
   "source": [
    "## Overview of KNN classification\n",
    "\n",
    "Before discussing a specific algorithm, it helps to know a bit of machine learning terminology. In supervised machine learning a set of ***cases*** are used to ***train***, ***test*** and ***evaluate*** the model. Each case is comprised of the values of one or more ***features*** and a ***label*** value. The features are variables used by the model to ***predict** the value of the label. Minimizing the ***errors*** between the true value of the label and the prediction supervises the training of this model. Once the model is trained and tested, it can be evaluated based on the accuracy in predicting the label of a new set of cases. \n",
    "\n",
    "In this lab you will use randomly selected cases to first train and then evaluate a k-nearest-neighbor (KNN) machine learning model. The goal is to predict the type or class of the label, which makes the machine learning model a ***classification*** model. \n",
    "\n",
    "The k-nearest-neighbor algorithm is conceptually simple. In fact, there is no formal training step. Given a known set of cases, a new case is classified by majority vote of the K (where $k = 1, 2, 3$, etc.) points nearest to the values of the new case; that is, the nearest neighbors of the new case. \n",
    "\n",
    "The schematic figure below illustrates the basic concepts of a KNN classifier. In this case there are two features, the values of one shown on the horizontal axis and the values of the other shown on the vertical axis. The cases are shown on the diagram as one of two classes, red triangles and blue circles. To summarize, each case has a value for the two features, and a class. The goal of the KNN algorithm is to classify cases with unknown labels. \n",
    "\n",
    "Continuing with the example, on the left side of the diagram the $K = 1$ case is illustrated. The nearest neighbor is a red triangle. Therefore, this KNN algorithm will classify the unknown case, '?', as a red triangle. On the right side of the diagram, the $K = 3$ case is illustrated. There are three near neighbors within the circle. The majority of nearest neighbors for $K = 3$ are the blue circles, so the algorithm classifies the unknown case, '?', as a blue circle. Notice that class predicted for the unknown case changes as K changes. This behavior is inherent in the KNN method.  \n",
    "\n",
    "![](img/KNN.jpg)\n",
    "<center> **KNN for k = 1 and k = 3**</center>\n",
    "\n",
    "There are some additional considerations in creating a robust KNN algorithm. These will be addressed later in this course. "
   ]
  },
  {
   "cell_type": "markdown",
   "metadata": {},
   "source": [
    "## Examine the data set\n",
    "\n",
    "In this lab you will work with the Iris data set. This data set is famous in the history of statistics. The first publication using these data in statistics by the pioneering statistician Ronald A Fisher was in 1936. Fisher proposed an algorithm to classify the species of iris flowers from physical measurements of their characteristics. The data set has been used as a teaching example ever since. \n",
    "\n",
    "Now, you will load and examine these data which are in the statsmodels.api package. Execute the code in the cell below and examine the first few rows of the data frame. "
   ]
  },
  {
   "cell_type": "code",
   "execution_count": 1,
   "metadata": {},
   "outputs": [
    {
     "name": "stdout",
     "output_type": "stream",
     "text": [
      "['setosa', 'setosa', 'setosa', 'setosa', 'setosa', 'setosa', 'setosa', 'setosa', 'setosa', 'setosa', 'setosa', 'setosa', 'setosa', 'setosa', 'setosa', 'setosa', 'setosa', 'setosa', 'setosa', 'setosa', 'setosa', 'setosa', 'setosa', 'setosa', 'setosa', 'setosa', 'setosa', 'setosa', 'setosa', 'setosa', 'setosa', 'setosa', 'setosa', 'setosa', 'setosa', 'setosa', 'setosa', 'setosa', 'setosa', 'setosa', 'setosa', 'setosa', 'setosa', 'setosa', 'setosa', 'setosa', 'setosa', 'setosa', 'setosa', 'setosa', 'versicolor', 'versicolor', 'versicolor', 'versicolor', 'versicolor', 'versicolor', 'versicolor', 'versicolor', 'versicolor', 'versicolor', 'versicolor', 'versicolor', 'versicolor', 'versicolor', 'versicolor', 'versicolor', 'versicolor', 'versicolor', 'versicolor', 'versicolor', 'versicolor', 'versicolor', 'versicolor', 'versicolor', 'versicolor', 'versicolor', 'versicolor', 'versicolor', 'versicolor', 'versicolor', 'versicolor', 'versicolor', 'versicolor', 'versicolor', 'versicolor', 'versicolor', 'versicolor', 'versicolor', 'versicolor', 'versicolor', 'versicolor', 'versicolor', 'versicolor', 'versicolor', 'versicolor', 'versicolor', 'versicolor', 'versicolor', 'versicolor', 'versicolor', 'virginica', 'virginica', 'virginica', 'virginica', 'virginica', 'virginica', 'virginica', 'virginica', 'virginica', 'virginica', 'virginica', 'virginica', 'virginica', 'virginica', 'virginica', 'virginica', 'virginica', 'virginica', 'virginica', 'virginica', 'virginica', 'virginica', 'virginica', 'virginica', 'virginica', 'virginica', 'virginica', 'virginica', 'virginica', 'virginica', 'virginica', 'virginica', 'virginica', 'virginica', 'virginica', 'virginica', 'virginica', 'virginica', 'virginica', 'virginica', 'virginica', 'virginica', 'virginica', 'virginica', 'virginica', 'virginica', 'virginica', 'virginica', 'virginica', 'virginica']\n"
     ]
    }
   ],
   "source": [
    "import pandas as pd\n",
    "#from statsmodels.api import datasets\n",
    "from sklearn import datasets ## Get dataset from sklearn\n",
    "\n",
    "## Import the dataset from sklearn.datasets\n",
    "iris = datasets.load_iris()\n",
    "\n",
    "## Create a data frame from the dictionary\n",
    "species = [iris.target_names[x] for x in iris.target]\n",
    "print(species)\n",
    "iris = pd.DataFrame(iris['data'], columns = ['Sepal_Length', 'Sepal_Width', 'Petal_Length', 'Petal_Width'])\n",
    "iris['Species'] = species\n"
   ]
  },
  {
   "cell_type": "markdown",
   "metadata": {},
   "source": [
    "There are four features, containing the dimensions of parts of the iris flower structures. The label column is the Species of the flower. The goal is to create and test a KNN algorithm to correctly classify the species. \n",
    "\n",
    "Next, you will execute the code in the cell below to show the data types of each column. "
   ]
  },
  {
   "cell_type": "code",
   "execution_count": 2,
   "metadata": {},
   "outputs": [
    {
     "data": {
      "text/plain": [
       "Sepal_Length    float64\n",
       "Sepal_Width     float64\n",
       "Petal_Length    float64\n",
       "Petal_Width     float64\n",
       "Species          object\n",
       "dtype: object"
      ]
     },
     "execution_count": 2,
     "metadata": {},
     "output_type": "execute_result"
    }
   ],
   "source": [
    "iris.dtypes"
   ]
  },
  {
   "cell_type": "markdown",
   "metadata": {},
   "source": [
    "The features are all numeric, and the label is a categorical string variable.\n",
    "\n",
    "Next, you will determine the number of unique categories, and number of cases for each category, for the label variable, Species. Execute the code in the cell below and examine the results. "
   ]
  },
  {
   "cell_type": "code",
   "execution_count": 3,
   "metadata": {},
   "outputs": [
    {
     "data": {
      "text/html": [
       "<div>\n",
       "<style scoped>\n",
       "    .dataframe tbody tr th:only-of-type {\n",
       "        vertical-align: middle;\n",
       "    }\n",
       "\n",
       "    .dataframe tbody tr th {\n",
       "        vertical-align: top;\n",
       "    }\n",
       "\n",
       "    .dataframe thead th {\n",
       "        text-align: right;\n",
       "    }\n",
       "</style>\n",
       "<table border=\"1\" class=\"dataframe\">\n",
       "  <thead>\n",
       "    <tr style=\"text-align: right;\">\n",
       "      <th></th>\n",
       "      <th>count</th>\n",
       "    </tr>\n",
       "    <tr>\n",
       "      <th>Species</th>\n",
       "      <th></th>\n",
       "    </tr>\n",
       "  </thead>\n",
       "  <tbody>\n",
       "    <tr>\n",
       "      <td>setosa</td>\n",
       "      <td>50</td>\n",
       "    </tr>\n",
       "    <tr>\n",
       "      <td>versicolor</td>\n",
       "      <td>50</td>\n",
       "    </tr>\n",
       "    <tr>\n",
       "      <td>virginica</td>\n",
       "      <td>50</td>\n",
       "    </tr>\n",
       "  </tbody>\n",
       "</table>\n",
       "</div>"
      ],
      "text/plain": [
       "            count\n",
       "Species          \n",
       "setosa         50\n",
       "versicolor     50\n",
       "virginica      50"
      ]
     },
     "execution_count": 3,
     "metadata": {},
     "output_type": "execute_result"
    }
   ],
   "source": [
    "iris['count'] = 1\n",
    "iris[['Species', 'count']].groupby('Species').count()"
   ]
  },
  {
   "cell_type": "markdown",
   "metadata": {},
   "source": [
    "You can see there are three species of iris, each with 50 cases. \n",
    "\n",
    "Next, you will create some plots to see how the classes might, or might not, be well separated by the value of the features. In an ideal case, the label classes will be perfectly separated by one or more of the feature pairs. In the real-world this ideal situation will rarely, if ever, be the case.\n",
    " \n",
    "There are six possible pair-wise scatter plots of these four features. For now, we will just create scatter plots of two variable pairs. Execute the code in the cell below and examine the resulting plots.\n",
    "***\n",
    "**Note:** Data visualization and the Seaborn package are covered in another lesson.\n",
    "***"
   ]
  },
  {
   "cell_type": "code",
   "execution_count": 4,
   "metadata": {
    "scrolled": false
   },
   "outputs": [
    {
     "data": {
      "image/png": "[encoded data removed]",
      "text/plain": [
       "<Figure size 444.75x360 with 1 Axes>"
      ]
     },
     "metadata": {
      "needs_background": "light"
     },
     "output_type": "display_data"
    },
    {
     "data": {
      "image/png": "[encoded data removed]",
      "text/plain": [
       "<Figure size 444.75x360 with 1 Axes>"
      ]
     },
     "metadata": {
      "needs_background": "light"
     },
     "output_type": "display_data"
    }
   ],
   "source": [
    "%matplotlib inline\n",
    "def plot_iris(iris, col1, col2):\n",
    "    import seaborn as sns\n",
    "    import matplotlib.pyplot as plt\n",
    "    sns.lmplot(x = col1, y = col2, \n",
    "               data = iris, \n",
    "               hue = \"Species\",    #hue is to denote in diff color and showing legends onto the graph\n",
    "               fit_reg = False)\n",
    "    plt.xlabel(col1)\n",
    "    plt.ylabel(col2)\n",
    "    plt.title('Iris species shown by color')\n",
    "    plt.show()\n",
    "plot_iris(iris, 'Petal_Width', 'Sepal_Length')\n",
    "plot_iris(iris, 'Sepal_Width', 'Sepal_Length')"
   ]
  },
  {
   "cell_type": "markdown",
   "metadata": {},
   "source": [
    "Examine these results noticing the separation, or overlap, of the label values. \n",
    "\n",
    "Then, answer **Question 1** on the course page. "
   ]
  },
  {
   "cell_type": "markdown",
   "metadata": {},
   "source": [
    "## Prepare the data set\n",
    "\n",
    "Data preparation is an important step before training any machine learning model. These data require only two preparation steps:\n",
    "- Scale the numeric values of the features. It is important that numeric features used to train machine learning models have a similar range of values. Otherwise, features which happen to have large numeric values may dominate model training, even if other features with smaller numeric values are more informative. In this case Zscore normalization is used. This normalization process scales each feature so that the mean is 0 and the variance is 1.0. \n",
    "- Split the dataset into randomly sampled training and evaluation data sets. The random selection of cases seeks to limit the leakage of information between the training and evaluation cases.\n",
    "\n",
    "The code in the cell below normalizes the features by these steps:\n",
    "- The scale function from scikit-learn.preprocessing is used to normalize the features.\n",
    "- Column names are assigned to the resulting data frame. \n",
    "- A statitical summary of the data frame is then printed. \n",
    "\n",
    "***\n",
    "**Note:** Data preparation with scikit-learn is covered in another lesson. \n",
    "***\n",
    "\n",
    "Execute this code and examine the results. "
   ]
  },
  {
   "cell_type": "code",
   "execution_count": 5,
   "metadata": {},
   "outputs": [
    {
     "name": "stdout",
     "output_type": "stream",
     "text": [
      "       Sepal_Length  Sepal_Width  Petal_Length  Petal_Width\n",
      "count       150.000      150.000       150.000      150.000\n",
      "mean         -0.000       -0.000        -0.000       -0.000\n",
      "std           1.003        1.003         1.003        1.003\n",
      "min          -1.870       -2.434        -1.568       -1.447\n",
      "25%          -0.901       -0.592        -1.227       -1.184\n",
      "50%          -0.053       -0.132         0.336        0.133\n",
      "75%           0.675        0.559         0.763        0.791\n",
      "max           2.492        3.091         1.786        1.712\n"
     ]
    }
   ],
   "source": [
    "from sklearn.preprocessing import scale\n",
    "import pandas as pd\n",
    "num_cols = ['Sepal_Length', 'Sepal_Width', 'Petal_Length', 'Petal_Width']\n",
    "iris_scaled = scale(iris[num_cols])\n",
    "iris_scaled = pd.DataFrame(iris_scaled, columns = num_cols)\n",
    "print(iris_scaled.describe().round(3))"
   ]
  },
  {
   "cell_type": "markdown",
   "metadata": {},
   "source": [
    "Examine these results. The mean of each column is zero and the standard deviation is approximately 1.0.\n",
    "\n",
    "The methods in the scikit-learn package requires numeric numpy arrays as arguments. Therefore, the strings indicting species must be re-coded as numbers. The code in the cell below does this using a dictionary lookup. Execute this code and examine the head of the data frame. "
   ]
  },
  {
   "cell_type": "code",
   "execution_count": 6,
   "metadata": {},
   "outputs": [
    {
     "data": {
      "text/html": [
       "<div>\n",
       "<style scoped>\n",
       "    .dataframe tbody tr th:only-of-type {\n",
       "        vertical-align: middle;\n",
       "    }\n",
       "\n",
       "    .dataframe tbody tr th {\n",
       "        vertical-align: top;\n",
       "    }\n",
       "\n",
       "    .dataframe thead th {\n",
       "        text-align: right;\n",
       "    }\n",
       "</style>\n",
       "<table border=\"1\" class=\"dataframe\">\n",
       "  <thead>\n",
       "    <tr style=\"text-align: right;\">\n",
       "      <th></th>\n",
       "      <th>Sepal_Length</th>\n",
       "      <th>Sepal_Width</th>\n",
       "      <th>Petal_Length</th>\n",
       "      <th>Petal_Width</th>\n",
       "      <th>Species</th>\n",
       "    </tr>\n",
       "  </thead>\n",
       "  <tbody>\n",
       "    <tr>\n",
       "      <td>0</td>\n",
       "      <td>-0.900681</td>\n",
       "      <td>1.019004</td>\n",
       "      <td>-1.340227</td>\n",
       "      <td>-1.315444</td>\n",
       "      <td>0</td>\n",
       "    </tr>\n",
       "    <tr>\n",
       "      <td>1</td>\n",
       "      <td>-1.143017</td>\n",
       "      <td>-0.131979</td>\n",
       "      <td>-1.340227</td>\n",
       "      <td>-1.315444</td>\n",
       "      <td>0</td>\n",
       "    </tr>\n",
       "    <tr>\n",
       "      <td>2</td>\n",
       "      <td>-1.385353</td>\n",
       "      <td>0.328414</td>\n",
       "      <td>-1.397064</td>\n",
       "      <td>-1.315444</td>\n",
       "      <td>0</td>\n",
       "    </tr>\n",
       "    <tr>\n",
       "      <td>3</td>\n",
       "      <td>-1.506521</td>\n",
       "      <td>0.098217</td>\n",
       "      <td>-1.283389</td>\n",
       "      <td>-1.315444</td>\n",
       "      <td>0</td>\n",
       "    </tr>\n",
       "    <tr>\n",
       "      <td>4</td>\n",
       "      <td>-1.021849</td>\n",
       "      <td>1.249201</td>\n",
       "      <td>-1.340227</td>\n",
       "      <td>-1.315444</td>\n",
       "      <td>0</td>\n",
       "    </tr>\n",
       "  </tbody>\n",
       "</table>\n",
       "</div>"
      ],
      "text/plain": [
       "   Sepal_Length  Sepal_Width  Petal_Length  Petal_Width  Species\n",
       "0     -0.900681     1.019004     -1.340227    -1.315444        0\n",
       "1     -1.143017    -0.131979     -1.340227    -1.315444        0\n",
       "2     -1.385353     0.328414     -1.397064    -1.315444        0\n",
       "3     -1.506521     0.098217     -1.283389    -1.315444        0\n",
       "4     -1.021849     1.249201     -1.340227    -1.315444        0"
      ]
     },
     "execution_count": 6,
     "metadata": {},
     "output_type": "execute_result"
    }
   ],
   "source": [
    "levels = {'setosa':0, 'versicolor':1, 'virginica':2}\n",
    "iris_scaled['Species'] = [levels[x] for x in iris['Species']]\n",
    "iris_scaled.head()"
   ]
  },
  {
   "cell_type": "markdown",
   "metadata": {},
   "source": [
    "Now, you will split the dataset into a test and evaluation sub-sets. The code in the cell below randomly splits the dataset into training and testing subsets. The features and labels are then separated into numpy arrays. The dimension of each array is printed as a check. Execute this code to create these subsets. \n",
    "\n",
    "***\n",
    "**Note:** Splitting data sets for machine learning with scikit-learn is discussed in another lesson.\n",
    "***"
   ]
  },
  {
   "cell_type": "code",
   "execution_count": 7,
   "metadata": {},
   "outputs": [
    {
     "name": "stdout",
     "output_type": "stream",
     "text": [
      "(75, 4)\n",
      "(75,)\n",
      "(75, 4)\n",
      "(75,)\n"
     ]
    }
   ],
   "source": [
    "## Split the data into a training and test set by Bernoulli sampling\n",
    "from sklearn.model_selection import train_test_split\n",
    "import numpy as np\n",
    "np.random.seed(3456)\n",
    "iris_split = train_test_split(np.asmatrix(iris_scaled), test_size = 75)\n",
    "iris_train_features = iris_split[0][:, :4]\n",
    "iris_train_labels = np.ravel(iris_split[0][:, 4])\n",
    "iris_test_features = iris_split[1][:, :4]\n",
    "iris_test_labels = np.ravel(iris_split[1][:, 4])\n",
    "print(iris_train_features.shape)\n",
    "print(iris_train_labels.shape)\n",
    "print(iris_test_features.shape)\n",
    "print(iris_test_labels.shape)"
   ]
  },
  {
   "cell_type": "markdown",
   "metadata": {},
   "source": [
    "## Train and evaluate the KNN model\n",
    "\n",
    "With some understanding of the relationships between the features and the label and preparation of the data completed you will now train and evaluate a $K = 3$ model. The code in the cell below does the following:\n",
    "- The KNN model is defined as having $K = 3$.\n",
    "- The model is trained using the fit method with the feature and label numpy arrays as arguments.\n",
    "- Displays a summary of the model. \n",
    "\n",
    "Execute this code and examine the summary of these results.\n",
    "\n",
    "\n",
    "***\n",
    "**Note:** Constructing machine learning models with scikit-learn is covered in another lesson.\n",
    "***"
   ]
  },
  {
   "cell_type": "code",
   "execution_count": 8,
   "metadata": {},
   "outputs": [
    {
     "data": {
      "text/plain": [
       "KNeighborsClassifier(algorithm='auto', leaf_size=30, metric='minkowski',\n",
       "                     metric_params=None, n_jobs=None, n_neighbors=3, p=2,\n",
       "                     weights='uniform')"
      ]
     },
     "execution_count": 8,
     "metadata": {},
     "output_type": "execute_result"
    }
   ],
   "source": [
    "## Define and train the KNN model\n",
    "from sklearn.neighbors import KNeighborsClassifier\n",
    "KNN_mod = KNeighborsClassifier(n_neighbors = 3)\n",
    "KNN_mod.fit(iris_train_features, iris_train_labels)"
   ]
  },
  {
   "cell_type": "markdown",
   "metadata": {},
   "source": [
    "Next, you will evaluate this model using the accuracy statistic and a set of plots. The following steps create model predictions and compute accuracy:\n",
    "- The predict method is used to compute KNN predictions from the model using the test features as an argument. \n",
    "- The predictions are scored as correct or not using a list comprehension. \n",
    "- Accuracy is computed as the percentage of the test cases correctly classified. \n",
    "\n",
    "Execute this code, examine the results, and answer **Question 2** on the course page."
   ]
  },
  {
   "cell_type": "code",
   "execution_count": 9,
   "metadata": {},
   "outputs": [
    {
     "name": "stdout",
     "output_type": "stream",
     "text": [
      "96.0\n"
     ]
    }
   ],
   "source": [
    "iris_test = pd.DataFrame(iris_test_features, columns = num_cols)\n",
    "iris_test['predicted'] = KNN_mod.predict(iris_test_features)\n",
    "iris_test['correct'] = [1 if x == z else 0 for x, z in zip(iris_test['predicted'], iris_test_labels)]\n",
    "accuracy = 100.0 * float(sum(iris_test['correct'])) / float(iris_test.shape[0])\n",
    "print(accuracy)"
   ]
  },
  {
   "cell_type": "code",
   "execution_count": 10,
   "metadata": {},
   "outputs": [
    {
     "data": {
      "text/html": [
       "<div>\n",
       "<style scoped>\n",
       "    .dataframe tbody tr th:only-of-type {\n",
       "        vertical-align: middle;\n",
       "    }\n",
       "\n",
       "    .dataframe tbody tr th {\n",
       "        vertical-align: top;\n",
       "    }\n",
       "\n",
       "    .dataframe thead th {\n",
       "        text-align: right;\n",
       "    }\n",
       "</style>\n",
       "<table border=\"1\" class=\"dataframe\">\n",
       "  <thead>\n",
       "    <tr style=\"text-align: right;\">\n",
       "      <th></th>\n",
       "      <th>Sepal_Length</th>\n",
       "      <th>Sepal_Width</th>\n",
       "      <th>Petal_Length</th>\n",
       "      <th>Petal_Width</th>\n",
       "      <th>predicted</th>\n",
       "      <th>correct</th>\n",
       "    </tr>\n",
       "  </thead>\n",
       "  <tbody>\n",
       "    <tr>\n",
       "      <td>0</td>\n",
       "      <td>-0.052506</td>\n",
       "      <td>-0.822570</td>\n",
       "      <td>0.080709</td>\n",
       "      <td>0.000878</td>\n",
       "      <td>1.0</td>\n",
       "      <td>1</td>\n",
       "    </tr>\n",
       "    <tr>\n",
       "      <td>1</td>\n",
       "      <td>0.189830</td>\n",
       "      <td>-0.822570</td>\n",
       "      <td>0.762758</td>\n",
       "      <td>0.527406</td>\n",
       "      <td>2.0</td>\n",
       "      <td>0</td>\n",
       "    </tr>\n",
       "    <tr>\n",
       "      <td>2</td>\n",
       "      <td>-1.264185</td>\n",
       "      <td>0.788808</td>\n",
       "      <td>-1.056039</td>\n",
       "      <td>-1.315444</td>\n",
       "      <td>0.0</td>\n",
       "      <td>1</td>\n",
       "    </tr>\n",
       "    <tr>\n",
       "      <td>3</td>\n",
       "      <td>-0.537178</td>\n",
       "      <td>1.939791</td>\n",
       "      <td>-1.397064</td>\n",
       "      <td>-1.052180</td>\n",
       "      <td>0.0</td>\n",
       "      <td>1</td>\n",
       "    </tr>\n",
       "    <tr>\n",
       "      <td>4</td>\n",
       "      <td>0.553333</td>\n",
       "      <td>-0.362176</td>\n",
       "      <td>1.046945</td>\n",
       "      <td>0.790671</td>\n",
       "      <td>2.0</td>\n",
       "      <td>1</td>\n",
       "    </tr>\n",
       "    <tr>\n",
       "      <td>...</td>\n",
       "      <td>...</td>\n",
       "      <td>...</td>\n",
       "      <td>...</td>\n",
       "      <td>...</td>\n",
       "      <td>...</td>\n",
       "      <td>...</td>\n",
       "    </tr>\n",
       "    <tr>\n",
       "      <td>70</td>\n",
       "      <td>-0.537178</td>\n",
       "      <td>0.788808</td>\n",
       "      <td>-1.169714</td>\n",
       "      <td>-1.315444</td>\n",
       "      <td>0.0</td>\n",
       "      <td>1</td>\n",
       "    </tr>\n",
       "    <tr>\n",
       "      <td>71</td>\n",
       "      <td>0.068662</td>\n",
       "      <td>-0.131979</td>\n",
       "      <td>0.251221</td>\n",
       "      <td>0.395774</td>\n",
       "      <td>1.0</td>\n",
       "      <td>1</td>\n",
       "    </tr>\n",
       "    <tr>\n",
       "      <td>72</td>\n",
       "      <td>-1.143017</td>\n",
       "      <td>0.098217</td>\n",
       "      <td>-1.283389</td>\n",
       "      <td>-1.315444</td>\n",
       "      <td>0.0</td>\n",
       "      <td>1</td>\n",
       "    </tr>\n",
       "    <tr>\n",
       "      <td>73</td>\n",
       "      <td>-1.748856</td>\n",
       "      <td>-0.362176</td>\n",
       "      <td>-1.340227</td>\n",
       "      <td>-1.315444</td>\n",
       "      <td>0.0</td>\n",
       "      <td>1</td>\n",
       "    </tr>\n",
       "    <tr>\n",
       "      <td>74</td>\n",
       "      <td>0.553333</td>\n",
       "      <td>-0.592373</td>\n",
       "      <td>0.762758</td>\n",
       "      <td>0.395774</td>\n",
       "      <td>2.0</td>\n",
       "      <td>1</td>\n",
       "    </tr>\n",
       "  </tbody>\n",
       "</table>\n",
       "<p>75 rows × 6 columns</p>\n",
       "</div>"
      ],
      "text/plain": [
       "    Sepal_Length  Sepal_Width  Petal_Length  Petal_Width  predicted  correct\n",
       "0      -0.052506    -0.822570      0.080709     0.000878        1.0        1\n",
       "1       0.189830    -0.822570      0.762758     0.527406        2.0        0\n",
       "2      -1.264185     0.788808     -1.056039    -1.315444        0.0        1\n",
       "3      -0.537178     1.939791     -1.397064    -1.052180        0.0        1\n",
       "4       0.553333    -0.362176      1.046945     0.790671        2.0        1\n",
       "..           ...          ...           ...          ...        ...      ...\n",
       "70     -0.537178     0.788808     -1.169714    -1.315444        0.0        1\n",
       "71      0.068662    -0.131979      0.251221     0.395774        1.0        1\n",
       "72     -1.143017     0.098217     -1.283389    -1.315444        0.0        1\n",
       "73     -1.748856    -0.362176     -1.340227    -1.315444        0.0        1\n",
       "74      0.553333    -0.592373      0.762758     0.395774        2.0        1\n",
       "\n",
       "[75 rows x 6 columns]"
      ]
     },
     "execution_count": 10,
     "metadata": {},
     "output_type": "execute_result"
    }
   ],
   "source": [
    "iris_test"
   ]
  },
  {
   "cell_type": "markdown",
   "metadata": {},
   "source": [
    "The accuracy is pretty good.\n",
    "\n",
    "Now, execute the code in the cell below and examine plots of the classifications of the iris species. "
   ]
  },
  {
   "cell_type": "code",
   "execution_count": 11,
   "metadata": {},
   "outputs": [
    {
     "name": "stdout",
     "output_type": "stream",
     "text": [
      "    Sepal_Length  Sepal_Width  Petal_Length  Petal_Width  predicted  correct  \\\n",
      "2      -1.264185     0.788808     -1.056039    -1.315444        0.0        1   \n",
      "3      -0.537178     1.939791     -1.397064    -1.052180        0.0        1   \n",
      "9      -0.537178     1.939791     -1.169714    -1.052180        0.0        1   \n",
      "10     -0.779513     1.019004     -1.283389    -1.315444        0.0        1   \n",
      "13     -1.143017     0.098217     -1.283389    -1.447076        0.0        1   \n",
      "23     -1.264185    -0.131979     -1.340227    -1.183812        0.0        1   \n",
      "26     -0.900681     1.019004     -1.340227    -1.183812        0.0        1   \n",
      "29     -0.052506     2.169988     -1.453901    -1.315444        0.0        1   \n",
      "32     -1.021849     0.558611     -1.340227    -1.315444        0.0        1   \n",
      "41     -0.658345     1.479398     -1.283389    -1.315444        0.0        1   \n",
      "44     -0.900681     1.709595     -1.226552    -1.315444        0.0        1   \n",
      "50     -0.900681     1.479398     -1.283389    -1.052180        0.0        1   \n",
      "51     -1.748856     0.328414     -1.397064    -1.315444        0.0        1   \n",
      "55     -1.021849    -0.131979     -1.226552    -1.315444        0.0        1   \n",
      "64     -1.021849     0.788808     -1.226552    -1.052180        0.0        1   \n",
      "69     -1.021849     1.249201     -1.340227    -1.315444        0.0        1   \n",
      "70     -0.537178     0.788808     -1.169714    -1.315444        0.0        1   \n",
      "72     -1.143017     0.098217     -1.283389    -1.315444        0.0        1   \n",
      "73     -1.748856    -0.362176     -1.340227    -1.315444        0.0        1   \n",
      "\n",
      "   Species  \n",
      "2   setosa  \n",
      "3   setosa  \n",
      "9   setosa  \n",
      "10  setosa  \n",
      "13  setosa  \n",
      "23  setosa  \n",
      "26  setosa  \n",
      "29  setosa  \n",
      "32  setosa  \n",
      "41  setosa  \n",
      "44  setosa  \n",
      "50  setosa  \n",
      "51  setosa  \n",
      "55  setosa  \n",
      "64  setosa  \n",
      "69  setosa  \n",
      "70  setosa  \n",
      "72  setosa  \n",
      "73  setosa  \n",
      "    Sepal_Length  Sepal_Width  Petal_Length  Petal_Width  predicted  correct  \\\n",
      "0      -0.052506    -0.822570      0.080709     0.000878        1.0        1   \n",
      "5      -0.294842    -0.822570      0.251221     0.132510        1.0        1   \n",
      "12     -1.143017    -1.513160     -0.260315    -0.262387        1.0        1   \n",
      "14      0.310998    -0.592373      0.535409     0.000878        1.0        1   \n",
      "15     -0.900681    -1.282963     -0.430828    -0.130755        1.0        1   \n",
      "17      0.068662     0.328414      0.592246     0.790671        1.0        1   \n",
      "19     -0.537178    -0.131979      0.421734     0.395774        1.0        1   \n",
      "20     -0.416010    -1.513160      0.023872    -0.130755        1.0        1   \n",
      "27     -0.416010    -1.052767      0.364896     0.000878        1.0        1   \n",
      "31     -0.173674    -0.362176      0.251221     0.132510        1.0        1   \n",
      "33      0.310998    -0.131979      0.478571     0.264142        1.0        1   \n",
      "35      0.674501     0.328414      0.421734     0.395774        1.0        1   \n",
      "38     -0.294842    -1.282963      0.080709    -0.130755        1.0        1   \n",
      "45      0.310998    -0.362176      0.535409     0.264142        1.0        1   \n",
      "47     -0.294842    -0.131979      0.421734     0.395774        1.0        1   \n",
      "48      1.038005     0.098217      0.535409     0.395774        1.0        1   \n",
      "49      0.674501    -0.362176      0.308059     0.132510        1.0        1   \n",
      "53      0.916837    -0.362176      0.478571     0.132510        1.0        1   \n",
      "56      0.795669    -0.592373      0.478571     0.395774        1.0        1   \n",
      "57      0.189830    -0.362176      0.421734     0.395774        1.0        1   \n",
      "61     -1.021849    -2.433947     -0.146641    -0.262387        1.0        1   \n",
      "63     -0.173674    -0.592373      0.421734     0.132510        1.0        1   \n",
      "65      0.189830    -1.973554      0.137547    -0.262387        1.0        1   \n",
      "66      0.432165    -0.362176      0.308059     0.132510        1.0        1   \n",
      "71      0.068662    -0.131979      0.251221     0.395774        1.0        1   \n",
      "\n",
      "       Species  \n",
      "0   versicolor  \n",
      "5   versicolor  \n",
      "12  versicolor  \n",
      "14  versicolor  \n",
      "15  versicolor  \n",
      "17  versicolor  \n",
      "19  versicolor  \n",
      "20  versicolor  \n",
      "27  versicolor  \n",
      "31  versicolor  \n",
      "33  versicolor  \n",
      "35  versicolor  \n",
      "38  versicolor  \n",
      "45  versicolor  \n",
      "47  versicolor  \n",
      "48  versicolor  \n",
      "49  versicolor  \n",
      "53  versicolor  \n",
      "56  versicolor  \n",
      "57  versicolor  \n",
      "61  versicolor  \n",
      "63  versicolor  \n",
      "65  versicolor  \n",
      "66  versicolor  \n",
      "71  versicolor  \n",
      "    Sepal_Length  Sepal_Width  Petal_Length  Petal_Width  predicted  correct  \\\n",
      "4       0.553333    -0.362176      1.046945     0.790671        2.0        1   \n",
      "6       0.553333     0.558611      1.274295     1.712096        2.0        1   \n",
      "7       2.492019     1.709595      1.501645     1.053935        2.0        1   \n",
      "11      0.432165    -0.592373      0.592246     0.790671        2.0        1   \n",
      "16     -0.294842    -0.592373      0.649083     1.053935        2.0        1   \n",
      "18      0.674501    -0.822570      0.876433     0.922303        2.0        1   \n",
      "21      0.674501    -0.592373      1.046945     1.185567        2.0        1   \n",
      "22      0.795669    -0.131979      0.819596     1.053935        2.0        1   \n",
      "24      0.553333    -0.822570      0.649083     0.790671        2.0        1   \n",
      "25     -0.052506    -0.592373      0.762758     1.580464        2.0        1   \n",
      "28     -0.052506    -0.822570      0.762758     0.922303        2.0        1   \n",
      "30      1.280340     0.328414      1.103783     1.448832        2.0        1   \n",
      "34      0.553333     0.788808      1.046945     1.580464        2.0        1   \n",
      "36      1.765012    -0.362176      1.444807     0.790671        2.0        1   \n",
      "37      0.674501     0.098217      0.990108     0.790671        2.0        1   \n",
      "39      1.280340     0.098217      0.762758     1.448832        2.0        1   \n",
      "40      0.795669     0.328414      0.762758     1.053935        2.0        1   \n",
      "42      2.249683    -0.592373      1.672157     1.053935        2.0        1   \n",
      "43      0.189830    -0.131979      0.592246     0.790671        2.0        1   \n",
      "46      2.249683    -0.131979      1.331133     1.448832        2.0        1   \n",
      "52      1.643844     0.328414      1.274295     0.790671        2.0        1   \n",
      "54      0.553333    -1.282963      0.705921     0.922303        2.0        1   \n",
      "58      1.038005     0.098217      1.046945     1.580464        2.0        1   \n",
      "59      0.068662    -0.131979      0.762758     0.790671        2.0        1   \n",
      "60      0.432165     0.788808      0.933271     1.448832        2.0        1   \n",
      "62      2.249683     1.709595      1.672157     1.317199        2.0        1   \n",
      "68      2.249683    -1.052767      1.785832     1.448832        2.0        1   \n",
      "74      0.553333    -0.592373      0.762758     0.395774        2.0        1   \n",
      "\n",
      "      Species  \n",
      "4   virginica  \n",
      "6   virginica  \n",
      "7   virginica  \n",
      "11  virginica  \n",
      "16  virginica  \n",
      "18  virginica  \n",
      "21  virginica  \n",
      "22  virginica  \n",
      "24  virginica  \n",
      "25  virginica  \n",
      "28  virginica  \n",
      "30  virginica  \n",
      "34  virginica  \n",
      "36  virginica  \n",
      "37  virginica  \n",
      "39  virginica  \n",
      "40  virginica  \n",
      "42  virginica  \n",
      "43  virginica  \n",
      "46  virginica  \n",
      "52  virginica  \n",
      "54  virginica  \n",
      "58  virginica  \n",
      "59  virginica  \n",
      "60  virginica  \n",
      "62  virginica  \n",
      "68  virginica  \n",
      "74  virginica  \n",
      "Empty DataFrame\n",
      "Columns: [Sepal_Length, Sepal_Width, Petal_Length, Petal_Width, predicted, correct, Species]\n",
      "Index: []\n",
      "    Sepal_Length  Sepal_Width  Petal_Length  Petal_Width  predicted  correct  \\\n",
      "8      -1.143017    -1.282963      0.421734     0.659038        1.0        0   \n",
      "67      0.310998    -0.131979      0.649083     0.790671        1.0        0   \n",
      "\n",
      "       Species  \n",
      "8   versicolor  \n",
      "67  versicolor  \n",
      "   Sepal_Length  Sepal_Width  Petal_Length  Petal_Width  predicted  correct  \\\n",
      "1       0.18983     -0.82257      0.762758     0.527406        2.0        0   \n",
      "\n",
      "     Species  \n",
      "1  virginica  \n",
      "    Sepal_Length  Sepal_Width  Petal_Length  Petal_Width  predicted  correct  \\\n",
      "2      -1.264185     0.788808     -1.056039    -1.315444        0.0        1   \n",
      "3      -0.537178     1.939791     -1.397064    -1.052180        0.0        1   \n",
      "9      -0.537178     1.939791     -1.169714    -1.052180        0.0        1   \n",
      "10     -0.779513     1.019004     -1.283389    -1.315444        0.0        1   \n",
      "13     -1.143017     0.098217     -1.283389    -1.447076        0.0        1   \n",
      "23     -1.264185    -0.131979     -1.340227    -1.183812        0.0        1   \n",
      "26     -0.900681     1.019004     -1.340227    -1.183812        0.0        1   \n",
      "29     -0.052506     2.169988     -1.453901    -1.315444        0.0        1   \n",
      "32     -1.021849     0.558611     -1.340227    -1.315444        0.0        1   \n",
      "41     -0.658345     1.479398     -1.283389    -1.315444        0.0        1   \n",
      "44     -0.900681     1.709595     -1.226552    -1.315444        0.0        1   \n",
      "50     -0.900681     1.479398     -1.283389    -1.052180        0.0        1   \n",
      "51     -1.748856     0.328414     -1.397064    -1.315444        0.0        1   \n",
      "55     -1.021849    -0.131979     -1.226552    -1.315444        0.0        1   \n",
      "64     -1.021849     0.788808     -1.226552    -1.052180        0.0        1   \n",
      "69     -1.021849     1.249201     -1.340227    -1.315444        0.0        1   \n",
      "70     -0.537178     0.788808     -1.169714    -1.315444        0.0        1   \n",
      "72     -1.143017     0.098217     -1.283389    -1.315444        0.0        1   \n",
      "73     -1.748856    -0.362176     -1.340227    -1.315444        0.0        1   \n",
      "\n",
      "   Species  \n",
      "2   setosa  \n",
      "3   setosa  \n",
      "9   setosa  \n",
      "10  setosa  \n",
      "13  setosa  \n",
      "23  setosa  \n",
      "26  setosa  \n",
      "29  setosa  \n",
      "32  setosa  \n",
      "41  setosa  \n",
      "44  setosa  \n",
      "50  setosa  \n",
      "51  setosa  \n",
      "55  setosa  \n",
      "64  setosa  \n",
      "69  setosa  \n",
      "70  setosa  \n",
      "72  setosa  \n",
      "73  setosa  \n",
      "    Sepal_Length  Sepal_Width  Petal_Length  Petal_Width  predicted  correct  \\\n",
      "0      -0.052506    -0.822570      0.080709     0.000878        1.0        1   \n",
      "5      -0.294842    -0.822570      0.251221     0.132510        1.0        1   \n",
      "12     -1.143017    -1.513160     -0.260315    -0.262387        1.0        1   \n",
      "14      0.310998    -0.592373      0.535409     0.000878        1.0        1   \n",
      "15     -0.900681    -1.282963     -0.430828    -0.130755        1.0        1   \n",
      "17      0.068662     0.328414      0.592246     0.790671        1.0        1   \n",
      "19     -0.537178    -0.131979      0.421734     0.395774        1.0        1   \n",
      "20     -0.416010    -1.513160      0.023872    -0.130755        1.0        1   \n",
      "27     -0.416010    -1.052767      0.364896     0.000878        1.0        1   \n",
      "31     -0.173674    -0.362176      0.251221     0.132510        1.0        1   \n",
      "33      0.310998    -0.131979      0.478571     0.264142        1.0        1   \n",
      "35      0.674501     0.328414      0.421734     0.395774        1.0        1   \n",
      "38     -0.294842    -1.282963      0.080709    -0.130755        1.0        1   \n",
      "45      0.310998    -0.362176      0.535409     0.264142        1.0        1   \n",
      "47     -0.294842    -0.131979      0.421734     0.395774        1.0        1   \n",
      "48      1.038005     0.098217      0.535409     0.395774        1.0        1   \n",
      "49      0.674501    -0.362176      0.308059     0.132510        1.0        1   \n",
      "53      0.916837    -0.362176      0.478571     0.132510        1.0        1   \n",
      "56      0.795669    -0.592373      0.478571     0.395774        1.0        1   \n",
      "57      0.189830    -0.362176      0.421734     0.395774        1.0        1   \n",
      "61     -1.021849    -2.433947     -0.146641    -0.262387        1.0        1   \n",
      "63     -0.173674    -0.592373      0.421734     0.132510        1.0        1   \n",
      "65      0.189830    -1.973554      0.137547    -0.262387        1.0        1   \n",
      "66      0.432165    -0.362176      0.308059     0.132510        1.0        1   \n",
      "71      0.068662    -0.131979      0.251221     0.395774        1.0        1   \n",
      "\n",
      "       Species  \n",
      "0   versicolor  \n",
      "5   versicolor  \n",
      "12  versicolor  \n",
      "14  versicolor  \n",
      "15  versicolor  \n",
      "17  versicolor  \n",
      "19  versicolor  \n",
      "20  versicolor  \n",
      "27  versicolor  \n",
      "31  versicolor  \n",
      "33  versicolor  \n",
      "35  versicolor  \n",
      "38  versicolor  \n",
      "45  versicolor  \n",
      "47  versicolor  \n",
      "48  versicolor  \n",
      "49  versicolor  \n",
      "53  versicolor  \n",
      "56  versicolor  \n",
      "57  versicolor  \n",
      "61  versicolor  \n",
      "63  versicolor  \n",
      "65  versicolor  \n",
      "66  versicolor  \n",
      "71  versicolor  \n",
      "    Sepal_Length  Sepal_Width  Petal_Length  Petal_Width  predicted  correct  \\\n",
      "4       0.553333    -0.362176      1.046945     0.790671        2.0        1   \n",
      "6       0.553333     0.558611      1.274295     1.712096        2.0        1   \n",
      "7       2.492019     1.709595      1.501645     1.053935        2.0        1   \n",
      "11      0.432165    -0.592373      0.592246     0.790671        2.0        1   \n",
      "16     -0.294842    -0.592373      0.649083     1.053935        2.0        1   \n",
      "18      0.674501    -0.822570      0.876433     0.922303        2.0        1   \n",
      "21      0.674501    -0.592373      1.046945     1.185567        2.0        1   \n",
      "22      0.795669    -0.131979      0.819596     1.053935        2.0        1   \n",
      "24      0.553333    -0.822570      0.649083     0.790671        2.0        1   \n",
      "25     -0.052506    -0.592373      0.762758     1.580464        2.0        1   \n",
      "28     -0.052506    -0.822570      0.762758     0.922303        2.0        1   \n",
      "30      1.280340     0.328414      1.103783     1.448832        2.0        1   \n",
      "34      0.553333     0.788808      1.046945     1.580464        2.0        1   \n",
      "36      1.765012    -0.362176      1.444807     0.790671        2.0        1   \n",
      "37      0.674501     0.098217      0.990108     0.790671        2.0        1   \n",
      "39      1.280340     0.098217      0.762758     1.448832        2.0        1   \n",
      "40      0.795669     0.328414      0.762758     1.053935        2.0        1   \n",
      "42      2.249683    -0.592373      1.672157     1.053935        2.0        1   \n",
      "43      0.189830    -0.131979      0.592246     0.790671        2.0        1   \n",
      "46      2.249683    -0.131979      1.331133     1.448832        2.0        1   \n",
      "52      1.643844     0.328414      1.274295     0.790671        2.0        1   \n",
      "54      0.553333    -1.282963      0.705921     0.922303        2.0        1   \n",
      "58      1.038005     0.098217      1.046945     1.580464        2.0        1   \n",
      "59      0.068662    -0.131979      0.762758     0.790671        2.0        1   \n",
      "60      0.432165     0.788808      0.933271     1.448832        2.0        1   \n",
      "62      2.249683     1.709595      1.672157     1.317199        2.0        1   \n",
      "68      2.249683    -1.052767      1.785832     1.448832        2.0        1   \n",
      "74      0.553333    -0.592373      0.762758     0.395774        2.0        1   \n",
      "\n",
      "      Species  \n",
      "4   virginica  \n",
      "6   virginica  \n",
      "7   virginica  \n",
      "11  virginica  \n",
      "16  virginica  \n",
      "18  virginica  \n",
      "21  virginica  \n",
      "22  virginica  \n",
      "24  virginica  \n",
      "25  virginica  \n",
      "28  virginica  \n",
      "30  virginica  \n",
      "34  virginica  \n",
      "36  virginica  \n",
      "37  virginica  \n",
      "39  virginica  \n",
      "40  virginica  \n",
      "42  virginica  \n",
      "43  virginica  \n",
      "46  virginica  \n",
      "52  virginica  \n",
      "54  virginica  \n",
      "58  virginica  \n",
      "59  virginica  \n",
      "60  virginica  \n",
      "62  virginica  \n",
      "68  virginica  \n",
      "74  virginica  \n",
      "Empty DataFrame\n",
      "Columns: [Sepal_Length, Sepal_Width, Petal_Length, Petal_Width, predicted, correct, Species]\n",
      "Index: []\n",
      "    Sepal_Length  Sepal_Width  Petal_Length  Petal_Width  predicted  correct  \\\n",
      "8      -1.143017    -1.282963      0.421734     0.659038        1.0        0   \n",
      "67      0.310998    -0.131979      0.649083     0.790671        1.0        0   \n",
      "\n",
      "       Species  \n",
      "8   versicolor  \n",
      "67  versicolor  \n",
      "   Sepal_Length  Sepal_Width  Petal_Length  Petal_Width  predicted  correct  \\\n",
      "1       0.18983     -0.82257      0.762758     0.527406        2.0        0   \n",
      "\n",
      "     Species  \n",
      "1  virginica  \n"
     ]
    },
    {
     "data": {
      "text/plain": [
       "'Done'"
      ]
     },
     "execution_count": 11,
     "metadata": {},
     "output_type": "execute_result"
    },
    {
     "data": {
      "image/png": "[encoded data removed]",
      "text/plain": [
       "<Figure size 432x432 with 1 Axes>"
      ]
     },
     "metadata": {
      "needs_background": "light"
     },
     "output_type": "display_data"
    },
    {
     "data": {
      "image/png": "[encoded data removed]",
      "text/plain": [
       "<Figure size 432x432 with 1 Axes>"
      ]
     },
     "metadata": {
      "needs_background": "light"
     },
     "output_type": "display_data"
    }
   ],
   "source": [
    "levels = {0:'setosa', 1:'versicolor', 2:'virginica'}\n",
    "iris_test['Species'] = [levels[x] for x in iris_test['predicted']]\n",
    "markers = {1:'^', 0:'o'}\n",
    "colors = {'setosa':'blue', 'versicolor':'green', 'virginica':'red'}\n",
    "def plot_shapes(df, col1,col2,  markers, colors):\n",
    "    import matplotlib.pyplot as plt\n",
    "    import seaborn as sns\n",
    "    ax = plt.figure(figsize=(6, 6)).gca() # define plot axis\n",
    "    for m in markers: # iterate over marker dictionary keys\n",
    "        for c in colors: # iterate over color dictionary keys\n",
    "            df_temp = df[(df['correct'] == m) & (df['Species'] == c)]\n",
    "            print(df_temp)\n",
    "            sns.regplot(x = col1, y = col2, \n",
    "                        data = df_temp,  \n",
    "                        fit_reg = False, \n",
    "                        scatter_kws={'color': colors[c]},\n",
    "                        marker = markers[m],\n",
    "                        ax = ax)\n",
    "    plt.xlabel(col1)\n",
    "    plt.ylabel(col2)\n",
    "    plt.title('Iris species by color')\n",
    "    return 'Done'\n",
    "plot_shapes(iris_test, 'Petal_Width', 'Sepal_Length', markers, colors)\n",
    "plot_shapes(iris_test, 'Sepal_Width', 'Sepal_Length', markers, colors)"
   ]
  },
  {
   "cell_type": "markdown",
   "metadata": {
    "collapsed": true
   },
   "source": [
    "In the plots above color is used to show the predicted class. Correctly classified cases are shown by triangles and incorrectly classified cases are shown by circles. \n",
    "\n",
    "Examine the plot and answer **Question 3** on the course page."
   ]
  },
  {
   "cell_type": "markdown",
   "metadata": {},
   "source": [
    "## Summary\n",
    "\n",
    "In this lab you have created and evaluated a KNN machine learning classification model. Specifically you have:\n",
    "1. Loaded and explored the data using visualization to determine if the features separate the classes.\n",
    "2. Prepared the data by normalizing the numeric features and randomly sampling into training and testing subsets. \n",
    "3. Constructing and evaluating the machine learning model. Evaluation was performed by statistically, with the accuracy metric, and with visualization. "
   ]
  },
  {
   "cell_type": "code",
   "execution_count": null,
   "metadata": {},
   "outputs": [],
   "source": []
  }
 ],
 "metadata": {
  "anaconda-cloud": {},
  "kernelspec": {
   "display_name": "Python 3",
   "language": "python",
   "name": "python3"
  },
  "language_info": {
   "codemirror_mode": {
    "name": "ipython",
    "version": 3
   },
   "file_extension": ".py",
   "mimetype": "text/x-python",
   "name": "python",
   "nbconvert_exporter": "python",
   "pygments_lexer": "ipython3",
   "version": "3.7.4"
  }
 },
 "nbformat": 4,
 "nbformat_minor": 1
}
